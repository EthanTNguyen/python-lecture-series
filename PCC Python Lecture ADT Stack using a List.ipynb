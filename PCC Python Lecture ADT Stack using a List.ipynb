{
 "cells": [
  {
   "cell_type": "code",
   "execution_count": null,
   "metadata": {
    "collapsed": true
   },
   "outputs": [],
   "source": [
    "#Lists are implemented as contigious blocks of momory. Every element of a list is itself \n",
    "#a reference to memory."
   ]
  },
  {
   "cell_type": "code",
   "execution_count": 4,
   "metadata": {
    "collapsed": false
   },
   "outputs": [],
   "source": [
    "# List of Fibonacci #s\n",
    "def fibonacci(n):\n",
    "    a = b = 1\n",
    "    result = [a,b]  \n",
    "    fib_num_prev = 0\n",
    "    while n > 2:\n",
    "        n = n - 1\n",
    "        a,b = b, a+b\n",
    "        result.append(b)\n",
    "    return result"
   ]
  },
  {
   "cell_type": "code",
   "execution_count": 5,
   "metadata": {
    "collapsed": false
   },
   "outputs": [
    {
     "data": {
      "text/plain": [
       "[1, 1, 2, 3, 5]"
      ]
     },
     "execution_count": 5,
     "metadata": {},
     "output_type": "execute_result"
    }
   ],
   "source": [
    "fibonacci(5)"
   ]
  },
  {
   "cell_type": "code",
   "execution_count": 6,
   "metadata": {
    "collapsed": false,
    "scrolled": true
   },
   "outputs": [
    {
     "data": {
      "text/plain": [
       "[1,\n",
       " 1,\n",
       " 2,\n",
       " 3,\n",
       " 5,\n",
       " 8,\n",
       " 13,\n",
       " 21,\n",
       " 34,\n",
       " 55,\n",
       " 89,\n",
       " 144,\n",
       " 233,\n",
       " 377,\n",
       " 610,\n",
       " 987,\n",
       " 1597,\n",
       " 2584,\n",
       " 4181,\n",
       " 6765,\n",
       " 10946,\n",
       " 17711,\n",
       " 28657,\n",
       " 46368,\n",
       " 75025,\n",
       " 121393,\n",
       " 196418,\n",
       " 317811,\n",
       " 514229,\n",
       " 832040,\n",
       " 1346269,\n",
       " 2178309,\n",
       " 3524578,\n",
       " 5702887,\n",
       " 9227465,\n",
       " 14930352,\n",
       " 24157817,\n",
       " 39088169,\n",
       " 63245986,\n",
       " 102334155,\n",
       " 165580141,\n",
       " 267914296,\n",
       " 433494437,\n",
       " 701408733,\n",
       " 1134903170,\n",
       " 1836311903,\n",
       " 2971215073,\n",
       " 4807526976,\n",
       " 7778742049,\n",
       " 12586269025,\n",
       " 20365011074,\n",
       " 32951280099,\n",
       " 53316291173,\n",
       " 86267571272,\n",
       " 139583862445,\n",
       " 225851433717,\n",
       " 365435296162,\n",
       " 591286729879,\n",
       " 956722026041,\n",
       " 1548008755920,\n",
       " 2504730781961,\n",
       " 4052739537881,\n",
       " 6557470319842,\n",
       " 10610209857723,\n",
       " 17167680177565,\n",
       " 27777890035288,\n",
       " 44945570212853,\n",
       " 72723460248141,\n",
       " 117669030460994,\n",
       " 190392490709135,\n",
       " 308061521170129,\n",
       " 498454011879264,\n",
       " 806515533049393,\n",
       " 1304969544928657,\n",
       " 2111485077978050,\n",
       " 3416454622906707,\n",
       " 5527939700884757,\n",
       " 8944394323791464,\n",
       " 14472334024676221,\n",
       " 23416728348467685,\n",
       " 37889062373143906,\n",
       " 61305790721611591,\n",
       " 99194853094755497,\n",
       " 160500643816367088,\n",
       " 259695496911122585,\n",
       " 420196140727489673,\n",
       " 679891637638612258,\n",
       " 1100087778366101931,\n",
       " 1779979416004714189,\n",
       " 2880067194370816120,\n",
       " 4660046610375530309,\n",
       " 7540113804746346429,\n",
       " 12200160415121876738,\n",
       " 19740274219868223167,\n",
       " 31940434634990099905,\n",
       " 51680708854858323072,\n",
       " 83621143489848422977,\n",
       " 135301852344706746049,\n",
       " 218922995834555169026,\n",
       " 354224848179261915075]"
      ]
     },
     "execution_count": 6,
     "metadata": {},
     "output_type": "execute_result"
    }
   ],
   "source": [
    "fibonacci(100)"
   ]
  },
  {
   "cell_type": "code",
   "execution_count": 13,
   "metadata": {
    "collapsed": false
   },
   "outputs": [
    {
     "name": "stdout",
     "output_type": "stream",
     "text": [
      "1\n",
      "1\n",
      "2\n",
      "3\n",
      "5\n"
     ]
    }
   ],
   "source": [
    "for _ in fibonacci(5):\n",
    "      print (_)"
   ]
  },
  {
   "cell_type": "markdown",
   "metadata": {},
   "source": [
    "Avoids funcs that return list objects who's values are simply iterated. Use a generator. "
   ]
  },
  {
   "cell_type": "code",
   "execution_count": 15,
   "metadata": {
    "collapsed": true
   },
   "outputs": [],
   "source": [
    "def fibonacci_generator(n):\n",
    "    \"\"\"Return first n>=2 elements of fibonacci as generator.\"\"\"\n",
    "    a = b = 1\n",
    "    yield a\n",
    "    yield b\n",
    "    while n > 2:\n",
    "        n = n - 1\n",
    "        a,b = b,a+b\n",
    "        yield b"
   ]
  },
  {
   "cell_type": "code",
   "execution_count": 16,
   "metadata": {
    "collapsed": false
   },
   "outputs": [
    {
     "name": "stdout",
     "output_type": "stream",
     "text": [
      "1\n",
      "1\n",
      "2\n",
      "3\n",
      "5\n"
     ]
    }
   ],
   "source": [
    "for _ in fibonacci_generator(5):\n",
    "    print (_)"
   ]
  },
  {
   "cell_type": "code",
   "execution_count": 17,
   "metadata": {
    "collapsed": false
   },
   "outputs": [
    {
     "name": "stdout",
     "output_type": "stream",
     "text": [
      "1\n",
      "2\n",
      "3\n",
      "0\n",
      "1\n",
      "4\n",
      "0\n",
      "1\n",
      "4\n",
      "<generator object createGenerator at 0x1041c5f10>\n",
      "0\n",
      "1\n",
      "4\n"
     ]
    }
   ],
   "source": [
    "# To understand what yield does, you must understand what generators are. \n",
    "# And before generators come iterables.\n",
    "\n",
    "## Iterables\n",
    "# When you create a list, you can read its items one by one. Reading its items one by one \n",
    "# is called iteration:\n",
    "mylist = [1, 2, 3]\n",
    "for i in mylist:\n",
    "    print(i)\n",
    "    \n",
    "# mylist is an iterable. When you use a list comprehension, you create a list, \n",
    "# and so an iterable:\n",
    "mylist = [x*x for x in range(3)]\n",
    "for i in mylist:\n",
    "    print(i)\n",
    "    \n",
    "\n",
    "# Everything you can use \"for... in...\" on is an iterable: lists, strings, files...\n",
    "\n",
    "# These iterables are handy because you can read them as much as you wish, but you \n",
    "# store all the values in memory and this is not always what you want when you have a\n",
    "# lot of values.\n",
    "\n",
    "## Generators\n",
    "# Generators are iterators, but you can only iterate over them once. It's because \n",
    "# they do not store all the values in memory, they generate the values on the fly:\n",
    "mygenerator = (x*x for x in range(3))\n",
    "for i in mygenerator:\n",
    "    print(i)\n",
    "    \n",
    "\n",
    "# It is just the same except you used () instead of []. \n",
    "# BUT, you cannot perform for i in mygenerator a second time since generators can \n",
    "# only be used once: they calculate 0, then forget about it and calculate 1, \n",
    "# and end calculating 4, one by one.    \n",
    "\n",
    "## Yield\n",
    "# Yield is a keyword that is used like return, except the function will return a generator.\n",
    "def createGenerator():\n",
    "    mylist = range(3)\n",
    "    for i in mylist:\n",
    "        yield i*i\n",
    "mygenerator = createGenerator() # create a generator\n",
    "print(mygenerator) # mygenerator is an object!\n",
    "for i in mygenerator:\n",
    "    print(i)\n",
    "\n",
    "# Here it's a useless example, but it's handy when you know your function will return a \n",
    "# huge set of values that you will only need to read once.\n",
    "\n",
    "# To master yield, you must understand that when you call the function, the code \n",
    "# you have written in the function body does not run. The function only returns the \n",
    "# generator object, this is a bit tricky :-)\n",
    "\n",
    "# Then, your code will be run each time the for uses the generator.\n",
    "\n",
    "# The first time the for calls the generator object created from your function, \n",
    "# it will run the code in your function from the beginning until it hits yield, \n",
    "# then it'll return the first value of the loop. Then, each other call will run the loop you have written in the function one more time, and return the next value, until there is no value to return.\n",
    "\n",
    "# The generator is considered empty once the function runs but does not hit yield anymore. \n",
    "# It can be because the loop had come to an end, or because you do not satisfy a \"if/else\" anymore.\n",
    "\n"
   ]
  },
  {
   "cell_type": "code",
   "execution_count": 18,
   "metadata": {
    "collapsed": true
   },
   "outputs": [],
   "source": [
    "# You can create a Stack using a list\n",
    "class Stack:\n",
    "    def __init__(self):\n",
    "        \"\"\"Demonstrate using list as storage for a Stack.\"\"\"\n",
    "        self.stack = []\n",
    "\n",
    "    def isEmpty(self):\n",
    "        \"\"\"Determines whether stack is empty. O(1) performance\"\"\"\n",
    "        return len(self.stack) == 0\n",
    "\n",
    "    def push(self, v):\n",
    "        \"\"\"Push v onto the stack. O(1) performance.\"\"\"\n",
    "        self.stack.append(v)\n",
    "\n",
    "    def pop(self):\n",
    "        \"\"\"Remove topmost element and return it. O(1) performance.\"\"\"\n",
    "        if self.isEmpty():\n",
    "            raise Exception('Stack is empty.')\n",
    "        return self.stack.pop()\n",
    "\n",
    "    def __repr__(self):\n",
    "        \"\"\"show representation.\"\"\"\n",
    "        return \"stack:\" + str(self.stack)"
   ]
  },
  {
   "cell_type": "code",
   "execution_count": 19,
   "metadata": {
    "collapsed": true
   },
   "outputs": [],
   "source": [
    "s = Stack()\n",
    "s.push(5)\n",
    "s.push(9)"
   ]
  },
  {
   "cell_type": "code",
   "execution_count": 20,
   "metadata": {
    "collapsed": false
   },
   "outputs": [
    {
     "data": {
      "text/plain": [
       "stack:[5, 9]"
      ]
     },
     "execution_count": 20,
     "metadata": {},
     "output_type": "execute_result"
    }
   ],
   "source": [
    "s"
   ]
  },
  {
   "cell_type": "code",
   "execution_count": 21,
   "metadata": {
    "collapsed": false
   },
   "outputs": [
    {
     "data": {
      "text/plain": [
       "9"
      ]
     },
     "execution_count": 21,
     "metadata": {},
     "output_type": "execute_result"
    }
   ],
   "source": [
    "s.pop()"
   ]
  },
  {
   "cell_type": "code",
   "execution_count": 22,
   "metadata": {
    "collapsed": false
   },
   "outputs": [
    {
     "data": {
      "text/plain": [
       "stack:[5]"
      ]
     },
     "execution_count": 22,
     "metadata": {},
     "output_type": "execute_result"
    }
   ],
   "source": [
    "s"
   ]
  },
  {
   "cell_type": "code",
   "execution_count": null,
   "metadata": {
    "collapsed": true
   },
   "outputs": [],
   "source": [
    "# If you were given the public API to Stack, would you know it's implemented using a list?\n",
    "# If so how? Should you care?"
   ]
  },
  {
   "cell_type": "code",
   "execution_count": null,
   "metadata": {
    "collapsed": true
   },
   "outputs": [],
   "source": [
    "import unittest\n",
    "import random\n",
    "\n",
    "class TestStack(unittest.TestCase):\n",
    "    \n",
    "    def setUp(self):\n",
    "        self.st = Stack()\n",
    "        \n",
    "    def tearDown(self):\n",
    "        self.st = None\n",
    "        \n",
    "    def test_basic(self):\n",
    "        \"\"\"Basic test.\"\"\"\n",
    "        self.assertTrue(self.st.isEmpty())\n",
    "        self.st.push(99)\n",
    "        self.assertFalse(self.st.isEmpty())\n",
    "        self.assertEqual(99,self.st.pop())\n",
    "        self.assertTrue(self.st.isEmpty())\n",
    "        \n",
    "    def test_stackBehavior(self):\n",
    "        \"\"\"Ensure behaves like a stack.\"\"\"\n",
    "        self.assertTrue(self.st.isEmpty())\n",
    "        self.st.push(99)\n",
    "        self.st.push(50)\n",
    "        self.st.push(25)\n",
    "        self.assertEqual(25,self.st.pop())\n",
    "        self.assertEqual(50,self.st.pop())\n",
    "        self.assertEqual(99,self.st.pop())\n",
    "        self.assertTrue(self.st.isEmpty())\n",
    "                \n",
    "if __name__ == '__main__':\n",
    "    unittest.main()"
   ]
  },
  {
   "cell_type": "code",
   "execution_count": null,
   "metadata": {
    "collapsed": true
   },
   "outputs": [],
   "source": []
  }
 ],
 "metadata": {
  "kernelspec": {
   "display_name": "Python 3",
   "language": "python",
   "name": "python3"
  },
  "language_info": {
   "codemirror_mode": {
    "name": "ipython",
    "version": 3
   },
   "file_extension": ".py",
   "mimetype": "text/x-python",
   "name": "python",
   "nbconvert_exporter": "python",
   "pygments_lexer": "ipython3",
   "version": "3.5.1"
  }
 },
 "nbformat": 4,
 "nbformat_minor": 0
}

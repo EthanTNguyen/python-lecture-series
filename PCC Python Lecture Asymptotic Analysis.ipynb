{
 "cells": [
  {
   "cell_type": "markdown",
   "metadata": {},
   "source": [
    "## Asymptotic Analysis for Performance\n",
    "1. Time Complexity\n",
    " 1. Time for a method to complete \n",
    " 2. Calculate time as function t(n) relating the number of steps given aggregate size, n\n",
    "2. Space Complexity\n",
    " 1. Amount of computer storage required\n",
    " 2. Determine space required s(n)\n",
    " \n",
    "For example, DB systems use indexes for speed. Sometimes, the indexes are larger than the data, b/c this tradeoff is needed to make queries faster.\n",
    "\n",
    "### Data Structure Cost Model\n",
    "From data structure implementation, find total # of steps based on n\n",
    "Assume constast cost to every operation, which helps us use t(n) to estimate execution time."
   ]
  },
  {
   "cell_type": "code",
   "execution_count": 5,
   "metadata": {
    "collapsed": false
   },
   "outputs": [
    {
     "name": "stdout",
     "output_type": "stream",
     "text": [
      "Sum is 6\n"
     ]
    }
   ],
   "source": [
    "# compute sum of N numbers\n",
    "numbers = [1,2,3]\n",
    "sum = 0\n",
    "for d in numbers:\n",
    "    sum += d\n",
    "print(\"Sum is {0}\".format(sum))\n",
    "\n",
    "# t(n) porportional to n => linear"
   ]
  },
  {
   "cell_type": "markdown",
   "metadata": {},
   "source": [
    "### Evaluate t(n) as problem size n doubles.\n",
    "### Goal to determine **order of growth** or O(f(n)). There are books written dedicated to this topic."
   ]
  },
  {
   "cell_type": "code",
   "execution_count": 10,
   "metadata": {
    "collapsed": false
   },
   "outputs": [
    {
     "name": "stdout",
     "output_type": "stream",
     "text": [
      "2 0.211856\n",
      "4 0.311436\n",
      "8 0.554385\n",
      "16 0.960423\n",
      "32 1.848679\n",
      "64 3.622212\n",
      "128 10.322792\n",
      "256 19.588133\n"
     ]
    }
   ],
   "source": [
    "# add 2^n random digits for n = 1 to 8\n",
    "import random\n",
    "import timeit\n",
    "\n",
    "for trial in [2**_ for _ in range(1,9)]:\n",
    "    numbers = [random.randint(1,9) for _ in range(trial)]\n",
    "    m = timeit.timeit(stmt='sum = 0\\nfor d in numbers:\\n\\tsum = sum + d',\n",
    "                     setup='import random\\nnumbers = ' + str(numbers))\n",
    "    print('{0:d} {1:f}'.format(trial,m))\n",
    "# plot this to see shape of graph"
   ]
  },
  {
   "cell_type": "code",
   "execution_count": 9,
   "metadata": {
    "collapsed": false
   },
   "outputs": [
    {
     "data": {
      "text/plain": [
       "[<matplotlib.lines.Line2D at 0x105b44240>]"
      ]
     },
     "execution_count": 9,
     "metadata": {},
     "output_type": "execute_result"
    },
    {
     "data": {
      "image/png": "[encoded data removed]",
      "text/plain": [
       "<matplotlib.figure.Figure at 0x105aa2198>"
      ]
     },
     "metadata": {},
     "output_type": "display_data"
    }
   ],
   "source": [
    "from matplotlib import pyplot\n",
    "\n",
    "import matplotlib.pyplot as plt\n",
    "plt.plot([2,4,8,16,32,64,128,256],[0.211856,0.311436,0.554385,0.960423,1.848679,3.622212,10.322792,19.588133])"
   ]
  },
  {
   "cell_type": "markdown",
   "metadata": {},
   "source": [
    "## Sample Problems\n",
    "1. Determine if list contains duplicate values\n",
    "2. Different solutions based on storage"
   ]
  },
  {
   "cell_type": "code",
   "execution_count": 12,
   "metadata": {
    "collapsed": true
   },
   "outputs": [],
   "source": [
    "def unique_check_fast(a_list):\n",
    "    \"\"\"\n",
    "    Return True if a_list contains any dups. \n",
    "    It completes in O(n) time with O(n) space required.\n",
    "    Individual elements must be hashable.\n",
    "    \"\"\"\n",
    "    # implement this method"
   ]
  },
  {
   "cell_type": "markdown",
   "metadata": {},
   "source": [
    "Amortized Time:\n",
    "\n",
    "1. Assume over the long haul constant time. Sometimes slower, sometimes faster but over long \n",
    "    haul its constant.\n",
    "    \n",
    "2. In other words, given sufficient # of requests, the average performence is constant.\n",
    "    Occurs with hashging who's performance depends on statistical estimates."
   ]
  },
  {
   "cell_type": "code",
   "execution_count": null,
   "metadata": {
    "collapsed": true
   },
   "outputs": [],
   "source": []
  }
 ],
 "metadata": {
  "kernelspec": {
   "display_name": "Python 3",
   "language": "python",
   "name": "python3"
  },
  "language_info": {
   "codemirror_mode": {
    "name": "ipython",
    "version": 3
   },
   "file_extension": ".py",
   "mimetype": "text/x-python",
   "name": "python",
   "nbconvert_exporter": "python",
   "pygments_lexer": "ipython3",
   "version": "3.5.1"
  }
 },
 "nbformat": 4,
 "nbformat_minor": 0
}

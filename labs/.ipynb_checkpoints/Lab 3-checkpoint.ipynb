{
 "cells": [
  {
   "cell_type": "markdown",
   "metadata": {},
   "source": [
    "## Move Zeroes"
   ]
  },
  {
   "cell_type": "markdown",
   "metadata": {},
   "source": [
    "Given an array nums, write a function to move all 0's to the end of it while maintaining the relative order of the non-zero elements.\n",
    "\n",
    "For example, given nums = [0, 1, 0, 3, 12], after calling your function, nums should be [1, 3, 12, 0, 0].\n",
    "\n",
    "Note:\n",
    "You must do this in-place without making a copy of the array.\n",
    "Minimize the total number of operations.\n"
   ]
  },
  {
   "cell_type": "markdown",
   "metadata": {},
   "source": [
    "## K Most Frequent\n",
    "\n",
    "Given a non-empty array of integers, return the k most frequent elements.\n",
    "\n",
    "For example,\n",
    "Given [1,1,1,2,2,3] and k = 2, return [1,2].\n",
    "\n",
    "Note: \n",
    "You may assume k is always valid, 1 ≤ k ≤ number of unique elements.\n",
    "Your algorithm's time complexity must be better than O(n log n), where n is the array's size."
   ]
  },
  {
   "cell_type": "markdown",
   "metadata": {},
   "source": [
    "## String Palindrome\n",
    "\n",
    "A string is a palindrome if it remains unchanged when reversed, for example \"dad\" is a palindrome as reverse of \"dad\" is \"dad\" whereas \"program\" is not a palindrome. \n",
    "\n",
    "Some other palindrome strings are \"mom\", \"civic\", \"madam\"."
   ]
  },
  {
   "cell_type": "code",
   "execution_count": 122,
   "metadata": {
    "collapsed": false
   },
   "outputs": [],
   "source": [
    "def is_palindrome(string):\n",
    "    if string == string[::-1]:\n",
    "        return True\n",
    "    return False"
   ]
  },
  {
   "cell_type": "code",
   "execution_count": 123,
   "metadata": {
    "collapsed": false
   },
   "outputs": [],
   "source": [
    "assert(is_palindrome(\"civic\") == True)"
   ]
  },
  {
   "cell_type": "code",
   "execution_count": 124,
   "metadata": {
    "collapsed": false
   },
   "outputs": [],
   "source": [
    "assert(is_palindrome(\"ccdd\") == False)"
   ]
  },
  {
   "cell_type": "markdown",
   "metadata": {},
   "source": [
    "## Isomorphic Strings\n",
    "\n",
    "Given two strings s and t, determine if they are isomorphic. Two strings are isomorphic if the characters in s can be replaced to get t. \n",
    "\n",
    "For example,\"egg\" and \"add\" are isomorphic, \"foo\" and \"bar\" are not."
   ]
  },
  {
   "cell_type": "markdown",
   "metadata": {},
   "source": [
    "## Isomorphic"
   ]
  },
  {
   "cell_type": "code",
   "execution_count": 84,
   "metadata": {
    "collapsed": false
   },
   "outputs": [
    {
     "name": "stdout",
     "output_type": "stream",
     "text": [
      "{'e': 'a'}\n",
      "{'e': 'a', 'g': 'd'}\n",
      "{'a': 'e'}\n",
      "{'d': 'g', 'a': 'e'}\n"
     ]
    }
   ],
   "source": [
    "assert(is_isomorphic(\"egg\", \"add\") == True)"
   ]
  },
  {
   "cell_type": "code",
   "execution_count": 104,
   "metadata": {
    "collapsed": false
   },
   "outputs": [
    {
     "name": "stdout",
     "output_type": "stream",
     "text": [
      "{'f': 'b'}\n",
      "{'o': 'a', 'f': 'b'}\n"
     ]
    }
   ],
   "source": [
    "assert(is_isomorphic(\"foo\", \"bar\")== False)"
   ]
  },
  {
   "cell_type": "code",
   "execution_count": 105,
   "metadata": {
    "collapsed": false
   },
   "outputs": [
    {
     "name": "stdout",
     "output_type": "stream",
     "text": [
      "{'e': 'a'}\n",
      "{'e': 'a', 'g': 'd'}\n",
      "{'e': 'a', 'o': 'd', 'g': 'd'}\n",
      "{'a': 'e'}\n",
      "{'d': 'g', 'a': 'e'}\n"
     ]
    }
   ],
   "source": [
    "assert(is_isomorphic(\"ego\", \"add\")== False)"
   ]
  },
  {
   "cell_type": "markdown",
   "metadata": {},
   "source": [
    "## Palindrome"
   ]
  },
  {
   "cell_type": "markdown",
   "metadata": {},
   "source": [
    "## Word Ladder\n",
    "For fun, not for credit\n",
    "\n",
    "Given two words (start and end), and a dictionary, find the length of shortest transformation sequence from start to end, such that only one letter can be changed at a time and each intermediate word must exist in the dictionary. \n",
    "For example, given:\n",
    "\n",
    "```start = \"hit\"\n",
    "end = \"cog\"\n",
    "dict = [\"hot\",\"dot\",\"dog\",\"lot\",\"log\"]\n",
    "One shortest transformation is \"hit\" -> \"hot\" -> \"dot\" -> \"dog\" -> \"cog\", the program should return its length 5.```"
   ]
  }
 ],
 "metadata": {
  "anaconda-cloud": {},
  "kernelspec": {
   "display_name": "Python 3",
   "language": "python",
   "name": "python3"
  },
  "language_info": {
   "codemirror_mode": {
    "name": "ipython",
    "version": 3
   },
   "file_extension": ".py",
   "mimetype": "text/x-python",
   "name": "python",
   "nbconvert_exporter": "python",
   "pygments_lexer": "ipython3",
   "version": "3.5.1"
  }
 },
 "nbformat": 4,
 "nbformat_minor": 0
}

{
 "cells": [
  {
   "cell_type": "markdown",
   "metadata": {},
   "source": [
    "**Implement regular expression matching with support for '.' and '*'.**\n",
    "```\n",
    "'.' Matches any single character.\n",
    "'*' Matches zero or more of the preceding element.\n",
    "```\n",
    "The matching should cover the entire input string (not partial).\n",
    "\n",
    "The function prototype should be:\n",
    "bool isMatch(const char *s, const char *p)\n",
    "```\n",
    "Some examples:\n",
    "isMatch(\"aa\",\"a\") return false\n",
    "isMatch(\"aa\",\"aa\") return true\n",
    "isMatch(\"aaa\",\"aa\") return false\n",
    "isMatch(\"aa\", \"a*\") return true\n",
    "isMatch(\"aa\", \".*\") return true\n",
    "isMatch(\"ab\", \".*\") return true\n",
    "isMatch(\"aab\", \"c*a*b\") return true\n",
    "```\n"
   ]
  },
  {
   "cell_type": "markdown",
   "metadata": {},
   "source": [
    "**Permutations**\n",
    "Given a collection of numbers, return all possible permutations.\n",
    "```\n",
    "For example,\n",
    "[1,2,3] have the following permutations:\n",
    "[1,2,3], [1,3,2], [2,1,3], [2,3,1], [3,1,2], and [3,2,1].\n",
    "```"
   ]
  },
  {
   "cell_type": "code",
   "execution_count": null,
   "metadata": {
    "collapsed": true
   },
   "outputs": [],
   "source": []
  }
 ],
 "metadata": {
  "kernelspec": {
   "display_name": "Python 3",
   "language": "python",
   "name": "python3"
  },
  "language_info": {
   "codemirror_mode": {
    "name": "ipython",
    "version": 3
   },
   "file_extension": ".py",
   "mimetype": "text/x-python",
   "name": "python",
   "nbconvert_exporter": "python",
   "pygments_lexer": "ipython3",
   "version": "3.5.1"
  }
 },
 "nbformat": 4,
 "nbformat_minor": 0
}

{
 "cells": [
  {
   "cell_type": "markdown",
   "metadata": {},
   "source": [
    "## Returns Duplicates\n",
    "\n",
    "Given an array of integers, find all integers if the array contains any duplicates. Your function should return all the duplicates uniquely and should return -1 if every element is distinct."
   ]
  },
  {
   "cell_type": "code",
   "execution_count": 123,
   "metadata": {
    "collapsed": false
   },
   "outputs": [],
   "source": [
    "#turn list into dict with frequency\n",
    "#a{key: value} where k is the numbers appeaer in the list, value is frequency\n",
    "\n",
    "def find_duplicate(numbers):\n",
    "    lookup = {}\n",
    "    for i in numbers:\n",
    "        if numbers.count(i)>1:\n",
    "            lookup[i] = numbers.count(i)\n",
    "    print(lookup)\n",
    "    if len(lookup) != 0:\n",
    "        return lookup.keys()\n",
    "    return -1"
   ]
  },
  {
   "cell_type": "code",
   "execution_count": 124,
   "metadata": {
    "collapsed": false
   },
   "outputs": [
    {
     "name": "stdout",
     "output_type": "stream",
     "text": [
      "{1: 2, 2: 2}\n"
     ]
    },
    {
     "data": {
      "text/plain": [
       "dict_keys([1, 2])"
      ]
     },
     "execution_count": 124,
     "metadata": {},
     "output_type": "execute_result"
    }
   ],
   "source": [
    "find_duplicate([1,1,2,2,3])"
   ]
  },
  {
   "cell_type": "code",
   "execution_count": 102,
   "metadata": {
    "collapsed": false
   },
   "outputs": [
    {
     "name": "stdout",
     "output_type": "stream",
     "text": [
      "{2: 2, 3: 4, 4: 2, 5: 2, 6: 2}\n",
      "dict_keys([2, 3, 4, 5, 6])\n"
     ]
    }
   ],
   "source": [
    "assert(find_duplicate([3, 4, 5, 6, 2, 3, 3, 4, 5, 6, 2, 3]))"
   ]
  },
  {
   "cell_type": "markdown",
   "metadata": {},
   "source": [
    "**K-th largest element in array** \n",
    "\n",
    "Find the kth largest element in an unsorted array. Note that it is the kth largest element in the sorted order, not the kth distinct element.\n",
    "\n",
    "For example, given [3,2,1,5,6,4] and k = 2, return 5.\n",
    "\n",
    "Note: You may assume k is always valid, 1 ≤ k ≤ array's length."
   ]
  },
  {
   "cell_type": "markdown",
   "metadata": {},
   "source": [
    "**Extra Credit**\n",
    "\n",
    "Given an array of integers and an integer k, return true if and only if there are two distinct indices i and j in the array such that nums[i] = nums[j] and the difference between i and j is at most k."
   ]
  },
  {
   "cell_type": "markdown",
   "metadata": {
    "collapsed": true
   },
   "source": [
    "## Return Dups"
   ]
  },
  {
   "cell_type": "code",
   "execution_count": 43,
   "metadata": {
    "collapsed": true
   },
   "outputs": [],
   "source": [
    "def dups(numbers):\n",
    "    number_count = {}\n",
    "    dups = []\n",
    "    for num in numbers:\n",
    "        if num in number_count:        \n",
    "            number_count[num] = number_count[num] + 1\n",
    "        else:\n",
    "            number_count[num] = 1\n",
    "    for k,v in number_count.items():\n",
    "        if(v > 1):\n",
    "            dups.append(k)\n",
    "    if dups == []:\n",
    "        return -1\n",
    "    else:\n",
    "        return dups"
   ]
  },
  {
   "cell_type": "code",
   "execution_count": 40,
   "metadata": {
    "collapsed": false
   },
   "outputs": [
    {
     "name": "stdout",
     "output_type": "stream",
     "text": [
      "{1: 1, 2: 1, 3: 1}\n"
     ]
    }
   ],
   "source": [
    "assert(dups([1,2,3]) == -1)"
   ]
  },
  {
   "cell_type": "code",
   "execution_count": 41,
   "metadata": {
    "collapsed": false
   },
   "outputs": [
    {
     "name": "stdout",
     "output_type": "stream",
     "text": [
      "{1: 1, 2: 1, 3: 2}\n"
     ]
    }
   ],
   "source": [
    "assert(dups([1,2,3,3]) == [3])"
   ]
  },
  {
   "cell_type": "code",
   "execution_count": 42,
   "metadata": {
    "collapsed": false
   },
   "outputs": [
    {
     "name": "stdout",
     "output_type": "stream",
     "text": [
      "{1: 1, 2: 1, 3: 2, 4: 2}\n"
     ]
    }
   ],
   "source": [
    "assert(dups([1,2,3,3,4,4]) == [3,4])"
   ]
  },
  {
   "cell_type": "markdown",
   "metadata": {},
   "source": [
    "## K-th largest element"
   ]
  },
  {
   "cell_type": "code",
   "execution_count": 74,
   "metadata": {
    "collapsed": true
   },
   "outputs": [],
   "source": [
    "def find_kth_largest_element(numbers,k):\n",
    "    sorted_numbers = sorted(numbers)\n",
    "    return sorted_numbers[len(numbers)-k]"
   ]
  },
  {
   "cell_type": "code",
   "execution_count": 75,
   "metadata": {
    "collapsed": false
   },
   "outputs": [],
   "source": [
    "assert(find_kth_largest_element([3,57,4,22,6],2) == 22)"
   ]
  },
  {
   "cell_type": "code",
   "execution_count": 76,
   "metadata": {
    "collapsed": true
   },
   "outputs": [],
   "source": [
    "assert(find_kth_largest_element([3,57,4,22,6],1) == 57)"
   ]
  }
 ],
 "metadata": {
  "anaconda-cloud": {},
  "kernelspec": {
   "display_name": "Python 3",
   "language": "python",
   "name": "python3"
  },
  "language_info": {
   "codemirror_mode": {
    "name": "ipython",
    "version": 3
   },
   "file_extension": ".py",
   "mimetype": "text/x-python",
   "name": "python",
   "nbconvert_exporter": "python",
   "pygments_lexer": "ipython3",
   "version": "3.5.1"
  }
 },
 "nbformat": 4,
 "nbformat_minor": 0
}

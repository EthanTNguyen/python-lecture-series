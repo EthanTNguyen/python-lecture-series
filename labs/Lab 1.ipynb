{
 "cells": [
  {
   "cell_type": "markdown",
   "metadata": {},
   "source": [
    "Create Python scripts demonstrating completion of [Learn Python The Hard Way](http://learnpythonthehardway.org/book/)\n",
    "\n",
    "Once you have created your scripts, you can run the following command from Jupyter notebook:\n",
    "\n",
    "**% run ../exercise_0.py**\n",
    "\n",
    "Since the tutorial is in Python 2, you will need to learn how to convert Python 2 into Python 3. This is a valuable learning experience since lots of people still use Python 2. \n",
    "\n",
    "Submission: Turn in a **zip/tar** file containing your scripts. Only do the first 39 exercises.\n",
    "\n"
   ]
  },
  {
   "cell_type": "code",
   "execution_count": null,
   "metadata": {
    "collapsed": true
   },
   "outputs": [],
   "source": []
  }
 ],
 "metadata": {
  "kernelspec": {
   "display_name": "Python 3",
   "language": "python",
   "name": "python3"
  },
  "language_info": {
   "codemirror_mode": {
    "name": "ipython",
    "version": 3
   },
   "file_extension": ".py",
   "mimetype": "text/x-python",
   "name": "python",
   "nbconvert_exporter": "python",
   "pygments_lexer": "ipython3",
   "version": "3.5.1"
  }
 },
 "nbformat": 4,
 "nbformat_minor": 0
}

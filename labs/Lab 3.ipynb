{
 "cells": [
  {
   "cell_type": "markdown",
   "metadata": {},
   "source": [
    "**Isomorphic Strings**\n",
    "\n",
    "Given two strings s and t, determine if they are isomorphic. Two strings are isomorphic if the characters in s can be replaced to get t. \n",
    "\n",
    "For example,\"egg\" and \"add\" are isomorphic, \"foo\" and \"bar\" are not."
   ]
  },
  {
   "cell_type": "markdown",
   "metadata": {},
   "source": [
    "**String Palindrome**\n",
    "\n",
    "A string is a palindrome if it remains unchanged when reversed, for example \"dad\" is a palindrome as reverse of \"dad\" is \"dad\" whereas \"program\" is not a palindrome. \n",
    "\n",
    "Some other palindrome strings are \"mom\", \"civic\", \"madam\"."
   ]
  },
  {
   "cell_type": "markdown",
   "metadata": {},
   "source": [
    "**Extra Credit**\n",
    "\n",
    "Word Ladder -- Extra Credit Given two words (start and end), and a dictionary, find the length of shortest transformation sequence from start to end, such that only one letter can be changed at a time and each intermediate word must exist in the dictionary. \n",
    "For example, given:\n",
    "\n",
    "```start = \"hit\"\n",
    "end = \"cog\"\n",
    "dict = [\"hot\",\"dot\",\"dog\",\"lot\",\"log\"]\n",
    "One shortest transformation is \"hit\" -> \"hot\" -> \"dot\" -> \"dog\" -> \"cog\", the program should return its length 5.```"
   ]
  },
  {
   "cell_type": "code",
   "execution_count": null,
   "metadata": {
    "collapsed": true
   },
   "outputs": [],
   "source": []
  }
 ],
 "metadata": {
  "kernelspec": {
   "display_name": "Python 3",
   "language": "python",
   "name": "python3"
  },
  "language_info": {
   "codemirror_mode": {
    "name": "ipython",
    "version": 3
   },
   "file_extension": ".py",
   "mimetype": "text/x-python",
   "name": "python",
   "nbconvert_exporter": "python",
   "pygments_lexer": "ipython3",
   "version": "3.5.1"
  }
 },
 "nbformat": 4,
 "nbformat_minor": 0
}

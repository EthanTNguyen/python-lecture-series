{
 "cells": [
  {
   "cell_type": "code",
   "execution_count": 1,
   "metadata": {
    "collapsed": false
   },
   "outputs": [
    {
     "data": {
      "text/plain": [
       "4"
      ]
     },
     "execution_count": 1,
     "metadata": {},
     "output_type": "execute_result"
    }
   ],
   "source": [
    "def primecounter(input_int):\n",
    "    prime=0\n",
    "    for x in range(2, input_int):\n",
    "        for y in range(2, x):\n",
    "            if (x%y==0):\n",
    "                break\n",
    "        else:\n",
    "            prime+=1\n",
    "    return prime\n",
    "\n",
    "primecounter(10)"
   ]
  },
  {
   "cell_type": "code",
   "execution_count": null,
   "metadata": {
    "collapsed": false
   },
   "outputs": [],
   "source": [
    "def binsearch(input_list, target):\n",
    "    low=0\n",
    "    high=len(input_list)-1\n",
    "    mid = int((low+high)/2)\n",
    "    while (input_list[mid]!=target):\n",
    "        if (input_list[mid]<target):\n",
    "            low=mid+1\n",
    "            mid=int((low+high)/2)\n",
    "        if (input_list[mid]>target):\n",
    "            high=mid-1\n",
    "            mid=int((low+high)/2)\n",
    "    if (input_list[mid]==target):\n",
    "        return mid\n",
    "    else:\n",
    "        return -1\n",
    "\n",
    "list_a=[0, 1, 2, 3, 4, 5, 6, 7]\n",
    "binsearch(list_a, 7)"
   ]
  },
  {
   "cell_type": "code",
   "execution_count": null,
   "metadata": {
    "collapsed": false
   },
   "outputs": [],
   "source": [
    "def binsearch(input_list, target):\n",
    "    low=0\n",
    "    high=len(input_list)-1\n",
    "    mid = int((low+high)/2)\n",
    "    while (input_list[mid]!=target):\n",
    "        if (input_list[mid]<target):\n",
    "            low=mid+1\n",
    "            mid=int((low+high)/2)\n",
    "        if (input_list[mid]>target):\n",
    "            high=mid-1\n",
    "            mid=int((low+high)/2)\n",
    "    if (input_list[mid]==target):\n",
    "        return mid\n",
    "    else:\n",
    "        return -1\n",
    "    \n",
    "def twosum(input_list, target):\n",
    "    input_list.sort\n",
    "    for x in range(0, len(input_list)):\n",
    "        mod=input_list[x]%target\n",
    "        mod_index = binsearch(input_list, mod)\n",
    "        if (input_list[x]+input_list[mod_index]==target):\n",
    "            return (x+1, mod_index+1)\n",
    "    return -1\n",
    "    \n",
    "list_a=[1, 2, 3, 4, 5, 6, 7]\n",
    "twosum(list_a, 3)"
   ]
  },
  {
   "cell_type": "code",
   "execution_count": null,
   "metadata": {
    "collapsed": false
   },
   "outputs": [],
   "source": []
  },
  {
   "cell_type": "code",
   "execution_count": null,
   "metadata": {
    "collapsed": true
   },
   "outputs": [],
   "source": []
  }
 ],
 "metadata": {
  "kernelspec": {
   "display_name": "Python 3",
   "language": "python",
   "name": "python3"
  },
  "language_info": {
   "codemirror_mode": {
    "name": "ipython",
    "version": 3
   },
   "file_extension": ".py",
   "mimetype": "text/x-python",
   "name": "python",
   "nbconvert_exporter": "python",
   "pygments_lexer": "ipython3",
   "version": "3.5.1"
  }
 },
 "nbformat": 4,
 "nbformat_minor": 0
}

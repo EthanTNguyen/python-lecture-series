{
 "cells": [
  {
   "cell_type": "code",
   "execution_count": 6,
   "metadata": {
    "collapsed": false
   },
   "outputs": [
    {
     "data": {
      "application/javascript": [
       "Jupyter.utils.load_extensions('vim_binding/vim_binding')"
      ],
      "text/plain": [
       "<IPython.core.display.Javascript object>"
      ]
     },
     "metadata": {},
     "output_type": "display_data"
    }
   ],
   "source": [
    "%%javascript\n",
    "Jupyter.utils.load_extensions('vim_binding/vim_binding')"
   ]
  },
  {
   "cell_type": "markdown",
   "metadata": {},
   "source": [
    "## Complete Basic Python Tutorial \n",
    "http://www.tutorialspoint.com/python/python_overview.htm\n",
    "\n",
    "http://www.python-course.eu/python3_formatted_output.php\n",
    "\n",
    "## Python Built-in Data Types API\n",
    "\n",
    "|   \t|Size   \t|Add   \t|Remove   \t|Contains   \t|\n",
    "|---\t|---\t|---\t|---\t|---\t|\n",
    "|List   \t|len(l): O(1)|insert: O(n),append: O(1)   \t|del,pop,remove: O(n)  \t|in,index: O(n)   \t|\n",
    "|Tuple   \t|len(t)   \t|-   \t|-   \t|in: O(n)   \t|\n",
    "|Dictionary   \t|len(t)   \t|d[k]=v: O(1)   \t|del,pop: O(1)   \t|in: O(1)   \t|\n",
    "|Set   \t|len(s)   \t|add: O(1)   \t|remove: O(1)    \t|in: O(1) |\n",
    "|Deque   \t|len(q)   \t|append: O(1)    \t|remove: O(n),pop: O(1)    \t|in: O(n)   \t|\n",
    "\n"
   ]
  },
  {
   "cell_type": "code",
   "execution_count": 1,
   "metadata": {
    "collapsed": false
   },
   "outputs": [
    {
     "data": {
      "text/plain": [
       "True"
      ]
     },
     "execution_count": 1,
     "metadata": {},
     "output_type": "execute_result"
    }
   ],
   "source": [
    "a_list = [1,2,3]\n",
    "1 in a_list"
   ]
  },
  {
   "cell_type": "code",
   "execution_count": 2,
   "metadata": {
    "collapsed": false
   },
   "outputs": [
    {
     "data": {
      "text/plain": [
       "deque([1, 2, 3, 4])"
      ]
     },
     "execution_count": 2,
     "metadata": {},
     "output_type": "execute_result"
    }
   ],
   "source": [
    "from collections import deque\n",
    "d = deque()\n",
    "d.append(1)\n",
    "d.append(2)\n",
    "d.append(3)\n",
    "d.append(4)\n",
    "d"
   ]
  },
  {
   "cell_type": "code",
   "execution_count": 4,
   "metadata": {
    "collapsed": false
   },
   "outputs": [
    {
     "data": {
      "text/plain": [
       "1"
      ]
     },
     "execution_count": 4,
     "metadata": {},
     "output_type": "execute_result"
    }
   ],
   "source": [
    "d.popleft()"
   ]
  },
  {
   "cell_type": "code",
   "execution_count": 5,
   "metadata": {
    "collapsed": false
   },
   "outputs": [
    {
     "data": {
      "text/plain": [
       "deque([2, 3, 4])"
      ]
     },
     "execution_count": 5,
     "metadata": {},
     "output_type": "execute_result"
    }
   ],
   "source": [
    "d"
   ]
  },
  {
   "cell_type": "markdown",
   "metadata": {
    "collapsed": true
   },
   "source": [
    "what can you do besides using internal Data Structures...\n",
    "\n",
    "## Abstract Data Type\n",
    "A  modeling approach to define a new data type by it's behavoir from the users perspective.\n",
    "Consider space & time complexity.\n",
    "\n",
    "## Data Type Design Principles\n",
    "\n",
    "Think of space & time complexity. You can often make a method more performant by using extra storage.\n",
    "\n",
    "You can implement all other data types using lists in Python which is a contigious array of memory.\n",
    "\n",
    "An efficient implementation can be achieved using tree-like structures, at the cost of making code a bit more complex.\n",
    "\n",
    "There are a bunch of algorithm strategies you can use such as **Divide & Conquer**.\n",
    "\n",
    "Seperate structure from behavoir by controlling access to internal representation (prevent interface leaks). This will allow you to make internal changes w/out breaking other code. \n",
    "\n",
    "**Algorithms & Data** Structures are tightly coupled."
   ]
  },
  {
   "cell_type": "code",
   "execution_count": null,
   "metadata": {
    "collapsed": true
   },
   "outputs": [],
   "source": []
  }
 ],
 "metadata": {
  "kernelspec": {
   "display_name": "Python 3",
   "language": "python",
   "name": "python3"
  },
  "language_info": {
   "codemirror_mode": {
    "name": "ipython",
    "version": 3
   },
   "file_extension": ".py",
   "mimetype": "text/x-python",
   "name": "python",
   "nbconvert_exporter": "python",
   "pygments_lexer": "ipython3",
   "version": "3.5.1"
  }
 },
 "nbformat": 4,
 "nbformat_minor": 0
}
